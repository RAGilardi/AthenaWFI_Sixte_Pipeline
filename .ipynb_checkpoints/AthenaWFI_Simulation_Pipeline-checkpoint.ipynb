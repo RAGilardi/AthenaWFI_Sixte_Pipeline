{
 "cells": [
  {
   "cell_type": "markdown",
   "id": "6fa8cabc",
   "metadata": {},
   "source": [
    "# Athena WFI Simulated Images Production Pipeline"
   ]
  },
  {
   "cell_type": "markdown",
   "id": "869af7f7",
   "metadata": {},
   "source": [
    "last revision 16/11/21"
   ]
  },
  {
   "cell_type": "markdown",
   "id": "6ea56fdd",
   "metadata": {},
   "source": [
    "## 0) Introduction\n",
    "This Pipeline was developed as a Master Thesis Project by Riccardo Aurelio Gilardi, master undergraduee in Astrophysics at University of Milano-Bicocca (Italy), between November 2020 and November 2021 under the supervision of Dr.Iacopo Bartalucci of IASF-INAF Milano (Italy) and Prof.Monica Colpi of University of Milano-Bicocca.\n",
    "\n",
    "This Jupyter-Notebook contains an extended explanation of each and every command prompted to produce simulated images for the Athena WFI imager using SIXTE, with many technical and theoretical references and, where possible, alternative commands for every passage.\n",
    "\n",
    "Even though with notebooks like this you could write and execute some kind of bash commands (beginning a code cell with %%bash works well with xspec scripts), at the moment of writing\n",
    "\n",
    "I will try to keep this file and the whole repository updated. Feel free to send any observation or question to the **github project's issue tracker**: https://github.com/RAGilardi/AthenaWFI_Sixte_Pipeline\n",
    "\n",
    "In the same directory to this file you will find some example analysis created starting from simulated objects, chandra images or simpler simputs. With these examples you will find scripts I used to obtain my results, which are customary and auxiliary, but not strictly required to complete the simulations."
   ]
  },
  {
   "cell_type": "markdown",
   "id": "b288dcf6",
   "metadata": {},
   "source": [
    "### 0.1) Requirements\n",
    "This version of the pipeline was developed on a machine with:\n",
    "- Linux Kernel version 5.4.0-90-generic\n",
    "- Ubuntu OS version 20.04.3 LTS (Focal Fossa)\n",
    "\n",
    "Software used in this version of the pipeline are:\n",
    "- CIAO 4.12 (https://cxc.cfa.harvard.edu/ciao/download/)\n",
    "- CALDB 4.9.3 (https://cxc.cfa.harvard.edu/ciao/download/caldb.html)\n",
    "- SIXTE 2.6.3, with Athena WFI instrument files downloaded (www.sternwarte.uni-erlangen.de/research/sixte/simulation.php, manual:https://www.sternwarte.uni-erlangen.de/research/sixte/data/simulator_manual_v1.3.14.pdf)\n",
    "- SIMPUT 2.4.10 (https://www.sternwarte.uni-erlangen.de/research/sixte/simulation.php)\n",
    "\n",
    "Additional Software I used to analyze my results, which are not strictly necessary are:\n",
    "- XSPEC 12.11.1 (used in the production and manipulation of spectral model and for spectral fits)\n",
    "- Python 3.8.10, with pip 21.1.2 as package manager and jupyter for notebooks. A list of packaged required will be shown at the beginning of tests and scripts\n",
    "- Sixte Athena-XIFU and XMM instrument files (for comparisons or complementary analysis to those of WFI)"
   ]
  },
  {
   "cell_type": "code",
   "execution_count": null,
   "id": "8019d6fc",
   "metadata": {},
   "outputs": [],
   "source": []
  }
 ],
 "metadata": {
  "kernelspec": {
   "display_name": "Python 3",
   "language": "python",
   "name": "python3"
  },
  "language_info": {
   "codemirror_mode": {
    "name": "ipython",
    "version": 3
   },
   "file_extension": ".py",
   "mimetype": "text/x-python",
   "name": "python",
   "nbconvert_exporter": "python",
   "pygments_lexer": "ipython3",
   "version": "3.8.10"
  }
 },
 "nbformat": 4,
 "nbformat_minor": 5
}
