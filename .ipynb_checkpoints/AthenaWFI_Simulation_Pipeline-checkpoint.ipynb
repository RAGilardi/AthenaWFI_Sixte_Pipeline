{
 "cells": [
  {
   "cell_type": "markdown",
   "id": "6fa8cabc",
   "metadata": {},
   "source": [
    "# Athena WFI Simulated Images Production Pipeline"
   ]
  },
  {
   "cell_type": "markdown",
   "id": "869af7f7",
   "metadata": {},
   "source": [
    "last revision 16/11/21"
   ]
  },
  {
   "cell_type": "markdown",
   "id": "6ea56fdd",
   "metadata": {},
   "source": [
    "## 0) Introduction\n",
    "This Pipeline was developed as a Master Thesis Project by Riccardo Aurelio Gilardi, master undergraduee in Astrophysics at University of Milano-Bicocca (Italy), between November 2020 and November 2021 under the supervision of Dr.Iacopo Bartalucci of IASF-INAF Milano (Italy) and Prof.Monica Colpi of University of Milano-Bicocca.\n",
    "\n",
    "This Jupyter-Notebook contains an extended explanation of each and every command prompted to produce simulated images for the Athena WFI imager using SIXTE, with many technical and theoretical references and, where possible, alternative commands for every passage.\n",
    "\n",
    "I will begin showing in **section 1** *how to produce a simple image and spectra for a pointlike object with a power law emission spectra*. This can be considered an exercise to check if every command gives the expected outputs.\n",
    "\n",
    "In **section 2** I will make a more complex example, showing *how to produce images and spectra for an extended source, wether coming from another satellite or a simulation*, with a background and pointlike sources and with some instrument corrections.\n",
    "\n",
    "In the same directory to this file you will find some example analysis created starting from simulated objects, chandra images or simpler simputs. With these examples you will find scripts I used to obtain my results, which are customary and auxiliary, but not strictly required to complete the simulations.\n",
    "\n",
    "I will try to keep this file and the whole repository updated. Feel free to send any observation or question to the **github project's issue tracker**: https://github.com/RAGilardi/AthenaWFI_Sixte_Pipeline.\n",
    "\n",
    "If you use these codes for your work, please cite the author of this work referring to this project.\n",
    "\n",
    "#### Tecnical notes:\n",
    "1) Even though with notebooks like this you could write and execute some bash commands (beginning a code cell with %%bash. This solution seems to work well with xspec scripts), at the moment of writing this I wasn't able to execute in a notebook many of the lines of code that required interactions, such as most of ciao and sixte command. Because of that, consider this as a source from which copy and paste lines into a terminal, more than an executable script.\n",
    "\n",
    "If this restriction to notebooks ever change, I will gladly make this file an executable pipeline, bypassing the use of terminals, if not needed.\n",
    "\n",
    "2) Rather than writing each command in this pipeline as a single line, I preferred for simplicity to use ciao punlearn/pset functions. So that even changing a single parameter in the pipeline became more simple.\n",
    "\n",
    "This is totally not necessary"
   ]
  },
  {
   "cell_type": "markdown",
   "id": "b288dcf6",
   "metadata": {},
   "source": [
    "### 0.1) Requirements\n",
    "This version of the pipeline was developed on a machine with:\n",
    "- Linux Kernel version 5.4.0-90-generic\n",
    "- Ubuntu OS version 20.04.3 LTS (Focal Fossa)\n",
    "\n",
    "Software used in this version of the pipeline are:\n",
    "- CIAO 4.12 (https://cxc.cfa.harvard.edu/ciao/download/)\n",
    "- CALDB 4.9.3 (https://cxc.cfa.harvard.edu/ciao/download/caldb.html)\n",
    "- SIXTE 2.6.3, with Athena WFI instrument files downloaded (www.sternwarte.uni-erlangen.de/research/sixte/simulation.php, manual:https://www.sternwarte.uni-erlangen.de/research/sixte/data/simulator_manual_v1.3.14.pdf)\n",
    "- SIMPUT 2.4.10 (https://www.sternwarte.uni-erlangen.de/research/sixte/simulation.php)\n",
    "\n",
    "Additional Software I used to analyze my results, which are not strictly necessary are:\n",
    "- XSPEC 12.11.1 (used in the production and manipulation of spectral model and for spectral fits)\n",
    "- Python 3.8.10, with pip 21.1.2 as package manager and jupyter for notebooks. A list of packaged required will be shown at the beginning of tests and scripts\n",
    "- Sixte Athena-XIFU and XMM instrument files (for comparisons or complementary analysis to those of WFI)\n",
    "- SAOImageDS9 for image analysis https://sites.google.com/cfa.harvard.edu/saoimageds9 \n",
    "- Prism (often installed with CIAO) for visualization of tables and simple operations on their data"
   ]
  },
  {
   "cell_type": "markdown",
   "id": "1a6afc74",
   "metadata": {},
   "source": [
    "# 1) Pointlike Source with PoweLaw emission\n",
    "This first simulation is a simple test with which verify the functioning and power of each software used in the pipeline.\n",
    "\n",
    "In the github Examples directory you can see a complete version of it."
   ]
  },
  {
   "cell_type": "markdown",
   "id": "abb53aca",
   "metadata": {},
   "source": [
    "## 1.1) Init\n",
    "This first section is pretty straightforward.\n",
    "\n",
    "After starting ciao and sixte, the first commands are simple aliases with which indicate the position of xml files. These are not strictly necessary, but very convenient.\n",
    "\n",
    "Sixte will use these files to locate every instrument calibration file. They should be all located in the share/sixte/instruments/athena-wfi/ folder, downloaded when installing sixte."
   ]
  },
  {
   "cell_type": "code",
   "execution_count": null,
   "id": "9a2a49ae",
   "metadata": {},
   "outputs": [],
   "source": [
    "ciao\n",
    "sixte\n",
    "\n",
    "xmldir=$SIXTE/share/sixte/instruments/athena-wfi/wfi_w_filter_15row\n",
    "xml0=${xmldir}/ld_wfi_ff_chip0.xml\n",
    "xml1=${xmldir}/ld_wfi_ff_chip1.xml\n",
    "xml2=${xmldir}/ld_wfi_ff_chip2.xml\n",
    "xml3=${xmldir}/ld_wfi_ff_chip3.xml"
   ]
  },
  {
   "cell_type": "markdown",
   "id": "bf41b11a",
   "metadata": {},
   "source": [
    "## 1.2) Simput creation\n",
    "**Simput Files** (simulation input files) are fits file containing tables of informations on the sources required to sixte to start a simulation.\n",
    "\n",
    "On sixte manual there is an extended explanation on their structure and creation. It is also possible to read a list of every customisable parameter in their creation using the bash command \n",
    "\n",
    "plist \"simput generating function of your choice\"\n",
    "\n",
    "On the sixte websites there are some simput file example avaiable at https://www.sternwarte.uni-erlangen.de/research/sixte/simput.php\n",
    "\n",
    "In the case of a single pointlike source the parameters we're using for the creation of its simput are \n",
    "- RA/Dec: the source Right Ascension and Declination coordniates in degrees\n",
    "- srcFlux: a flux for the source (intrinsinc property independent of the observation, in [erg/cm^2/sec])\n",
    "- Emin/Emax: a reference energy band for fluxes, between Emin and Emax\n",
    "- XSPECFile: a model for its spectral emission (in this case an XSPEC .xml file)\n",
    "- Elow/Eup/Nbins: a spectrum energy band, between Elow and Emax with a Nbins\n",
    "\n",
    "Othere than these, there are a lots of different parameters to customize, all indicated in sixte manual."
   ]
  },
  {
   "cell_type": "code",
   "execution_count": null,
   "id": "31a30acd",
   "metadata": {},
   "outputs": [],
   "source": [
    "#=== Source Coordinates (CRVAL1 CRVAL2)\n",
    "RA=178.95265707698\n",
    "DEC=23.430564570053\n",
    "\n",
    "#==== SIMPUTFILE\n",
    "punlearn simputfile\n",
    "pset simputfile Elow=0.2\n",
    "pset simputfile Eup=12\n",
    "pset simputfile Nbins=1000\n",
    "pset simputfile XSPECFile=./model.xcm\n",
    "pset simputfile RA=${RA}\n",
    "pset simputfile Dec=${DEC}\n",
    "pset simputfile srcFlux=1.e-12\n",
    "pset simputfile Emin=0.5\n",
    "pset simputfile Emax=10\n",
    "pset simputfile clobber=yes\n",
    "simputfile"
   ]
  },
  {
   "cell_type": "markdown",
   "id": "19948b50",
   "metadata": {},
   "source": [
    "Below a simple example of how to automatize the creation and merge of simput files for pointlike sources.\n",
    "\n",
    "While this is a relatively simple task, in **section 3** of this work will be shown how it is more complicated to build it for an extendend source."
   ]
  },
  {
   "cell_type": "code",
   "execution_count": null,
   "id": "3ea7c9f0",
   "metadata": {},
   "outputs": [],
   "source": [
    "#==Simput creations\n",
    "simpar=\"XSPECFile=spectrum.xcm Emin=0.5 Emax=10.0 clobber=yes\"\n",
    "simputfile RA=40.21 Dec=12.82 srcFlux=8.3e-12 Simput=\"src_00.fits\" $simpar\n",
    "simputfile RA=40.31 Dec=12.83 srcFlux=2.3e-11 Simput=\"src_01.fits\" $simpar\n",
    "simputfile RA=40.12 Dec=12.73 srcFlux=6.3e-12 Simput=\"src_02.fits\" $simpar\n",
    "simputfile RA=40.27 Dec=12.81 srcFlux=4.1e-12 Simput=\"src_03.fits\" $simpar\n",
    "simputfile RA=40.29 Dec=12.75 srcFlux=3.2e-11 Simput=\"src_04.fits\" $simpar\n",
    "simputfile RA=40.33 Dec=12.81 srcFlux=1.3e-11 Simput=\"src_05.fits\" $simpar\n",
    "\n",
    "#==Merging\n",
    "opt=\"clobber=yes FetchExtensions=yes\"\n",
    "simputmerge $opt Infile1=src_00.fits Infile2=src_01.fits Outfile=m_src_01.fits\n",
    "simputmerge $opt Infile1=src_02.fits Infile2=m_src_01.fits Outfile=m_src_02.fits\n",
    "simputmerge $opt Infile1=src_03.fits Infile2=m_src_02.fits Outfile=m_src_03.fits\n",
    "simputmerge $opt Infile1=src_04.fits Infile2=m_src_03.fits Outfile=m_src_04.fits\n",
    "simputmerge $opt Infile1=src_05.fits Infile2=m_src_04.fits Outfile=merged_simput.fits"
   ]
  },
  {
   "cell_type": "markdown",
   "id": "5e6ca8c7",
   "metadata": {},
   "source": [
    "## 1.2) Simulation\n",
    "While there are many different functions in sixte which can produce a simulation for the Athena-WFI imager, I chose to only use the more specifically designed **athenawfisim** function.\n",
    "\n",
    "**side-note:** This isn't correlated to this work, focused on the production of simulated images from WFI, but the workflow with the Athena X-IFU Spectrometer is somewhat similar and based on the **xifupipeline** sixte function. Yet still, I didn't do any work of calibration for X-IFU as I did for WFI so I'm not sure of the precision of its results or the tweaks needed to produce a better image.\n",
    "\n",
    "This program will use infromations from the instrument calibration files (read from the sensors xml files) and from the simput file to produce a simulated event file for each telescope chip.\n",
    "\n",
    "The parameter of it we decided to modify are:\n",
    "- RA/Dec: Pointing central value for the observation (CRVALs), on which the pointlike source will be located (no matter what coordinates it had)\n",
    "- Prefix: Output for the event files\n",
    "- Exposure: Exposure time for the observation in seconds\n",
    "- Attitude: we can use an attitude file to describe the telescope dithering movement, so to cover a largen portion of the sky and in particular the gaps between each chip\n",
    "- Simput: input simput file for the source"
   ]
  },
  {
   "cell_type": "code",
   "execution_count": null,
   "id": "bae9cb45",
   "metadata": {},
   "outputs": [],
   "source": [
    "#=== SIMULATION\n",
    "punlearn athenawfisim\n",
    "pset athenawfisim XMLFile0=${xml0}\n",
    "pset athenawfisim XMLFile1=${xml1}\n",
    "pset athenawfisim XMLFile2=${xml2}\n",
    "pset athenawfisim XMLFile3=${xml3}\n",
    "pset athenawfisim RA=${RA}\n",
    "pset athenawfisim Dec=${DEC}\n",
    "pset athenawfisim Prefix=./pnt_source_\n",
    "pset athenawfisim Exposure=10000\n",
    "pset athenawfisim clobber=yes\n",
    "pset athenawfisim Attitude=./attitude_80ksec.att\n",
    "pset athenawfisim Simput=./simput.fits\n",
    "athenawfisim"
   ]
  },
  {
   "cell_type": "markdown",
   "id": "c0cf9667",
   "metadata": {},
   "source": [
    "## 1.3) Imaging and Spectra production\n",
    "Sixte event files aren't simple to directly analyze as an image, so with this step we produce an actual counts image of our simulation.\n",
    "\n",
    "In particular to do this we need to first make a single event file from the four created by simputmultispec with the function **ftmerge** and then create an image using the **imgev** sixte functions, of which we choose:\n",
    "- NAXIS: image pixel per axis\n",
    "- CRVAL: central value, the pointing coordinates\n",
    "- CUNIT: CRVAL unit measure\n",
    "- CRPIX: central pixels of the image\n",
    "- CDELT: dimension in degrees of each pixels\n",
    "\n",
    "**Technical notes**\n",
    "- Each parameter of the **imgev** function only affects aesthetically the output, not chaning any physical information\n",
    "- To see all WFI chips, at the cost of a lower resolution, a value CDELT=-0.0011888874248538006 should work, while with a value of CDELT=-6.207043e-04 you will see the subject of your image at an higher resolution, cutting out some parts of WFI field of view."
   ]
  },
  {
   "cell_type": "code",
   "execution_count": null,
   "id": "2ac3b2c0",
   "metadata": {},
   "outputs": [],
   "source": [
    "#== Evt Files Merge\n",
    "ftmerge \\\n",
    "./pnt_source_chip0_evt.fits,./pnt_source_chip1_evt.fits,./pnt_source_chip2_evt.fits,./pnt_source_chip3_evt.fits \\\n",
    "./pnt_source_comb.fits clobber=yes\n",
    "\n",
    "#== IMAGING\n",
    "punlearn imgev\n",
    "pset imgev EvtFile=./evt/pnt_source_comb.fits\n",
    "pset imgev Image=./images/image.fits\n",
    "pset imgev NAXIS1=1078\n",
    "pset imgev NAXIS2=1078\n",
    "pset imgev CRVAL1=${RA}\n",
    "pset imgev CRVAL2=${DEC}\n",
    "pset imgev CRPIX1=593.192308\n",
    "pset imgev CRPIX2=485.807692\n",
    "pset imgev CUNIT1=deg\n",
    "pset imgev CUNIT2=deg\n",
    "pset imgev CDELT1=6.207043e-04\n",
    "pset imgev CDELT2=6.207043e-04\n",
    "pset imgev CoordinateSystem=0\n",
    "pset imgev Projection=TAN\n",
    "pset imgev clobber=yes\n",
    "imgev"
   ]
  },
  {
   "cell_type": "markdown",
   "id": "19b62f13",
   "metadata": {},
   "source": [
    "## 1.4) Spectra\n",
    "Sixte provides us with the **makespec** functions, with which is possible to produce a spectra as a .pha file given an input event file and all the instrument calibration files through the xml files directory.\n",
    "\n",
    "It is also customary to choose any kind of filter on the event file to only extract spectra from the source. In this example I chose to use a circular region of radius 0.3' (0.005°)"
   ]
  },
  {
   "cell_type": "code",
   "execution_count": null,
   "id": "66327dca",
   "metadata": {},
   "outputs": [],
   "source": [
    "#== SPECTRA\n",
    "punlearn makespec\n",
    "pset makespec EvtFile=./pnt_source_comb.fits\n",
    "pset makespec Spectrum=./spectra.pha\n",
    "pset makespec RSPPath=${xmldir}\n",
    "pset makespec clobber=yes\n",
    "pset makespec EventFilter=\"{RA - ${RA}}**2 + {DEC - ${DEC}}**2 > 0 && {RA - ${RA}}**2 + {DEC - ${DEC}}**2 < 0.005**2\"\n",
    "makespec"
   ]
  },
  {
   "cell_type": "markdown",
   "id": "de476284",
   "metadata": {},
   "source": [
    "# 2) Galaxy Cluster Complete Simulation\n",
    "Here will be explained each and every passage of the pipeline with which produce a simulated image and spectra for an extended objext (i.e. a globular cluster) using sixte.\n",
    "\n",
    "In particular I will explain how to produce a simulation starting from a count image from another instrument such as chandra or starting from a map produced with any kind of simulation.\n",
    "\n",
    "I'm bypassing every explanation writtend in the first section of the guide. So for any doubt reference that.\n",
    "\n",
    "In the project Examples directory you can see a complete version of this using chandra data from the Chandra Data Archive freely aviable on https://cda.harvard.edu/chaser/, which have been reduced using CIAO and IDL scripts.\n",
    "\n",
    "## 2.1) Init"
   ]
  },
  {
   "cell_type": "code",
   "execution_count": null,
   "id": "b615dcdf",
   "metadata": {},
   "outputs": [],
   "source": [
    "ciao\n",
    "sixte\n",
    "\n",
    "xmldir=$SIXTE/share/sixte/instruments/athena-wfi/wfi_w_filter_15row\n",
    "xml0=${xmldir}/ld_wfi_ff_chip0.xml\n",
    "xml1=${xmldir}/ld_wfi_ff_chip1.xml\n",
    "xml2=${xmldir}/ld_wfi_ff_chip2.xml\n",
    "xml3=${xmldir}/ld_wfi_ff_chip3.xml"
   ]
  },
  {
   "cell_type": "markdown",
   "id": "ec3b4cf6",
   "metadata": {},
   "source": [
    "### 2.2) Simput creation\n",
    "In the case of extended sources the simput creation function of our choice is **simputmultispec** which requires as an input a counts map and a parameter value map related to the spectral model in the .xcm file. \n",
    "\n",
    "The param is related to the model through the **paraNames** parameter, while the keywoards **paramsNumValues** and **paramsLogScale** refers to the number of intervals in which the parameter values are divided between its minimum and maximum and wether these intervals are to be considered on a logarithmic scale or not.\n",
    "\n",
    "The choice of simputmultispec over other methods is related to its versatility and the many parameters which it makes possible to manipulate.\n",
    "\n",
    "**side-note:** SIXTE manual underline how this is a function most suitable for 2d input maps as parameter files cannot be deprojected. In the case of 3D input data, the manual shows how to produce a simulation using functions such as **simuputmulticell**.\n",
    "\n",
    "### 2.2.1) Input maps\n",
    "While the function parameters are all similar to those used with simputfile in the case of the point-like source, a **few words** can be spent **on the input counts map**:\n",
    "- In the case of **maps from simulations** we want a **cluster-only** **normalized counts map** with **no background photons**\n",
    "- In the case of **maps from real data reduction** we want a **background subtracted exposition time-normalized counts map**. We also want to **cut our counts and paramater maps to include only the area of the source**. \n",
    "\n",
    "The **input maps cut for real data** is required because the simput creation impose a spectral model to all the photons in the map and we cannot have an input map from real data with only counts from the source: if we created the simput from the whole image, even though counts are normalized and background subtracted, sixte would interpret the whole image as something radiating as described in the spectral model (like a \"ccd-shaped cluster\"!).\n",
    "\n",
    "Cutting the input maps requires some really strong hypothesis on where the source brightness as seen on the real data get submerged by background emission. This could be made less impactfull on the results remembering that the simulation can only use photons which were also visible above the background in the original image: so the background limit from the original data analysis should be considered a good estimator to the radius for the cut.\n",
    "\n",
    "### 2.2.2) Fluxes\n",
    "\n",
    "### 2.2.3) Background Simputs\n",
    "A notable difference with the case of the simple example of section one is that for a complete simulation we might also want to produce a **simput file** for the **background**. In the example below and in the Example directory I create a simput file for the **sky compontent of the background** and one for the **particle/instrumental component of the background**. \n",
    "\n",
    "These two have the same spectral model and their input counts maps are python generated and have for simplicity random values distributed as a gaussian. Their parameter files makes reference to the three normalization in their spectral model.\n",
    "\n",
    "The sky background simput can be used as a secondary simput for the complete image simulation, in addition to the cluster simput and any other eventual simput.\n",
    "\n",
    "The particle background simput is a bit more complicated subject: SIXTE uses instrument calibration file to model the instrumental background and add it automatically to every simulation, so its not needed to create a particle background simput to add to the source complete simulation. Instead, this kind of simput could be used for example to create a \"flat image\" to be subtracted from the \"complete cluster image\" made from the cluster and sky background simput. This is not showed in this pipeline, but for example the python library pyproffit requires explicitally a particle background only image for its brightness modeling.\n",
    "\n",
    "We will also see in the next sections how the spectra derived from the simulations made with only the particle background simput spectra could also be subtracted to every cluster and sky background spectra to obtain better spectral fits.\n",
    "\n",
    "**technical side-note:** At the time of writing this version of the pipeline, the official athena instrument files for the particle background rate is a constant function for every energy bin. While this is not technically very accurate, it didn't seem to create any major issue with the results and anyhow it might be too early in Athena developement to create a more precise instrument background model.\n",
    "\n",
    "The simputmultispec functions for the two kinds of background is created almost in the same way. The only difference in this case is that the two input counts maps have different normalization. This is because while for the sky background we can measure a realistic count rate, to measure the particle/instrumental background we should use a 0-counts map (only instrumental noise, no sources). Unfortunately sixte at the moment doesn't permit the creation of a simput starting from a uniform or too low-normed input map, so to create a particle-background we can use a random map with counts distributed on a gaussian with a much lower average value than the one used for the sky background (I often used a ratio of $\\sim10^{-5}$ for the two normalization with no issues)."
   ]
  },
  {
   "cell_type": "code",
   "execution_count": null,
   "id": "7b1edf55",
   "metadata": {},
   "outputs": [],
   "source": [
    "#=== Source Coordinates (CRVAL1 CRVAL2 in input data)\n",
    "RA=178.95265707698\n",
    "DEC=23.430564570053\n",
    "\n",
    "#Cluster Simput\n",
    "pset simputmultispec Simput=./simput/cluster.simput\n",
    "pset simputmultispec XSPECFile=./input/cluster_model.xcm\n",
    "pset simputmultispec ImageFile=\"./input/sim_map.fits\"\n",
    "pset simputmultispec ParamFiles=\"./input/simkt_map.fits\"\n",
    "pset simputmultispec ParamNames=\"2\"\n",
    "pset simputmultispec ParamsLogScale=\"yes\"\n",
    "pset simputmultispec ParamsNumValues=\"32\"\n",
    "pset simputmultispec Emin = 0.5\n",
    "pset simputmultispec Emax = 10.0\n",
    "pset simputmultispec srcFlux = 1.049E-11\n",
    "pset simputmultispec RA=${RA}\n",
    "pset simputmultispec Dec=${DEC}\n",
    "pset simputmultispec Elow=0.1\n",
    "pset simputmultispec Eup=12\n",
    "pset simputmultispec Estep=0.00025\n",
    "pset simputmultispec clobber=yes\n",
    "simputmultispec\n",
    "\n",
    "#Sky Bkg Simput\n",
    "pset simputmultispec Simput=./simput/bkg_sky.simput\n",
    "pset simputmultispec XSPECFile=./input/bkg_model.xcm\n",
    "pset simputmultispec ImageFile=\"./input/fake_sky_bkg.fits\"\n",
    "pset simputmultispec ParamFiles=\"./input/sky_norm1.fits;./input/sky_norm2.fits;./input/sky_norm3.fits\"\n",
    "pset simputmultispec ParamNames=\"5;10;12\"\n",
    "pset simputmultispec ParamsLogScale=\"no;no;no\"\n",
    "pset simputmultispec ParamsNumValues=\"32;32;32\"\n",
    "pset simputmultispec Emin = 0.5\n",
    "pset simputmultispec Emax = 10.0\n",
    "pset simputmultispec srcFlux =5.252E-14\n",
    "pset simputmultispec RA=${RA}\n",
    "pset simputmultispec Dec=${DEC}\n",
    "pset simputmultispec Elow=0.1\n",
    "pset simputmultispec Eup=12\n",
    "pset simputmultispec Estep=0.00025\n",
    "pset simputmultispec clobber=yes\n",
    "simputmultispec\n",
    "\n",
    "#Particle Bkg Simput\n",
    "pset simputmultispec Simput=./simput/bkg_part.simput\n",
    "pset simputmultispec XSPECFile=./input/bkg_model.xcm\n",
    "pset simputmultispec ImageFile=\"./input/fake_part_bkg.fits\"\n",
    "pset simputmultispec ParamFiles=\"./input/part_norm1.fits;./input/part_norm2.fits;./input/part_norm3.fits\"\n",
    "pset simputmultispec ParamNames=\"5;10;12\"\n",
    "pset simputmultispec ParamsLogScale=\"no;no;no\"\n",
    "pset simputmultispec ParamsNumValues=\"32;32;32\"\n",
    "pset simputmultispec Emin = 0.5\n",
    "pset simputmultispec Emax = 10.0\n",
    "pset simputmultispec srcFlux =5.252E-14\n",
    "pset simputmultispec RA=${RA}\n",
    "pset simputmultispec Dec=${DEC}\n",
    "pset simputmultispec Elow=0.1\n",
    "pset simputmultispec Eup=12\n",
    "pset simputmultispec Estep=0.00025\n",
    "pset simputmultispec clobber=yes\n",
    "simputmultispec"
   ]
  },
  {
   "cell_type": "markdown",
   "id": "a9cd3489",
   "metadata": {},
   "source": [
    "## 1.2) Simulation\n",
    "While there are many different functions in sixte which can produce a simulation for the Athena-WFI imager, I chose to only use the more specifically designed **athenawfisim** function.\n",
    "\n",
    "**side-note:** This isn't correlated to this work, focused on the production of simulated images from WFI, but the workflow with the Athena X-IFU Spectrometer is somewhat similar and based on the **xifupipeline** sixte function. Yet still, I didn't do any work of calibration for X-IFU as I did for WFI so I'm not sure of the precision of its results or the tweaks needed to produce a better image.\n",
    "\n",
    "This program will use infromations from the instrument calibration files (read from the sensors xml files) and from the simput file to produce a simulated event file for each telescope chip.\n",
    "\n",
    "The parameter of it we decided to modify are:\n",
    "- RA/Dec: Pointing central value for the observation (CRVALs), on which the pointlike source will be located (no matter what coordinates it had)\n",
    "- Prefix: Output for the event files\n",
    "- Exposure: Exposure time for the observation in seconds\n",
    "- Attitude: we can use an attitude file to describe the telescope dithering movement, so to cover a largen portion of the sky and in particular the gaps between each chip\n",
    "- Simput: input simput file for the source"
   ]
  },
  {
   "cell_type": "code",
   "execution_count": null,
   "id": "bae9cb45",
   "metadata": {},
   "outputs": [],
   "source": [
    "#=== SIMULATION\n",
    "punlearn athenawfisim\n",
    "pset athenawfisim XMLFile0=${xml0}\n",
    "pset athenawfisim XMLFile1=${xml1}\n",
    "pset athenawfisim XMLFile2=${xml2}\n",
    "pset athenawfisim XMLFile3=${xml3}\n",
    "pset athenawfisim RA=${RA}\n",
    "pset athenawfisim Dec=${DEC}\n",
    "pset athenawfisim Prefix=./pnt_source_\n",
    "pset athenawfisim Exposure=10000\n",
    "pset athenawfisim clobber=yes\n",
    "pset athenawfisim Attitude=./attitude_80ksec.att\n",
    "pset athenawfisim Simput=./simput.fits\n",
    "athenawfisim"
   ]
  },
  {
   "cell_type": "markdown",
   "id": "c0cf9667",
   "metadata": {},
   "source": [
    "## 1.3) Imaging and Spectra production\n",
    "Sixte event files aren't simple to directly analyze as an image, so with this step we produce an actual counts image of our simulation.\n",
    "\n",
    "In particular to do this we need to first make a single event file from the four created by simputmultispec with the function **ftmerge** and then create an image using the **imgev** sixte functions, of which we choose:\n",
    "- NAXIS: image pixel per axis\n",
    "- CRVAL: central value, the pointing coordinates\n",
    "- CUNIT: CRVAL unit measure\n",
    "- CRPIX: central pixels of the image\n",
    "- CDELT: dimension in degrees of each pixels\n",
    "\n",
    "**Technical notes**\n",
    "- Each parameter of the **imgev** function only affects aesthetically the output, not chaning any physical information\n",
    "- To see all WFI chips, at the cost of a lower resolution, a value CDELT=-0.0011888874248538006 should work, while with a value of CDELT=-6.207043e-04 you will see the subject of your image at an higher resolution, cutting out some parts of WFI field of view."
   ]
  },
  {
   "cell_type": "code",
   "execution_count": null,
   "id": "2ac3b2c0",
   "metadata": {},
   "outputs": [],
   "source": [
    "#== Evt Files Merge\n",
    "ftmerge \\\n",
    "./pnt_source_chip0_evt.fits,./pnt_source_chip1_evt.fits,./pnt_source_chip2_evt.fits,./pnt_source_chip3_evt.fits \\\n",
    "./pnt_source_comb.fits clobber=yes\n",
    "\n",
    "#== IMAGING\n",
    "punlearn imgev\n",
    "pset imgev EvtFile=./evt/pnt_source_comb.fits\n",
    "pset imgev Image=./images/image.fits\n",
    "pset imgev NAXIS1=1078\n",
    "pset imgev NAXIS2=1078\n",
    "pset imgev CRVAL1=${RA}\n",
    "pset imgev CRVAL2=${DEC}\n",
    "pset imgev CRPIX1=593.192308\n",
    "pset imgev CRPIX2=485.807692\n",
    "pset imgev CUNIT1=deg\n",
    "pset imgev CUNIT2=deg\n",
    "pset imgev CDELT1=6.207043e-04\n",
    "pset imgev CDELT2=6.207043e-04\n",
    "pset imgev CoordinateSystem=0\n",
    "pset imgev Projection=TAN\n",
    "pset imgev clobber=yes\n",
    "imgev"
   ]
  },
  {
   "cell_type": "markdown",
   "id": "19b62f13",
   "metadata": {},
   "source": [
    "## 1.4) Spectra\n",
    "Sixte provides us with the **makespec** functions, with which is possible to produce a spectra as a .pha file given an input event file and all the instrument calibration files through the xml files directory.\n",
    "\n",
    "It is also customary to choose any kind of filter on the event file to only extract spectra from the source. In this example I chose to use a circular region of radius 0.3' (0.005°)"
   ]
  },
  {
   "cell_type": "code",
   "execution_count": null,
   "id": "66327dca",
   "metadata": {},
   "outputs": [],
   "source": [
    "#== SPECTRA\n",
    "punlearn makespec\n",
    "pset makespec EvtFile=./pnt_source_comb.fits\n",
    "pset makespec Spectrum=./spectra.pha\n",
    "pset makespec RSPPath=${xmldir}\n",
    "pset makespec clobber=yes\n",
    "pset makespec EventFilter=\"{RA - ${RA}}**2 + {DEC - ${DEC}}**2 > 0 && {RA - ${RA}}**2 + {DEC - ${DEC}}**2 < 0.005**2\"\n",
    "makespec"
   ]
  },
  {
   "cell_type": "code",
   "execution_count": null,
   "id": "2224836d",
   "metadata": {},
   "outputs": [],
   "source": []
  },
  {
   "cell_type": "markdown",
   "id": "1d1e5c14",
   "metadata": {},
   "source": [
    "### simputfile a partire da simulazione di oggetto esteso\n",
    "Con **simputmulticell** possibile estrarre un file simput da dei dati 3D (che possono provenire da dati reali, simulazioni o un toy model).\n",
    "\n",
    "E' simile a simputmulti spec, ma qui il param file contiene la griglia 3D coi dati."
   ]
  },
  {
   "cell_type": "code",
   "execution_count": null,
   "id": "4bc286b1",
   "metadata": {},
   "outputs": [],
   "source": [
    "punlearn simputmulticell\n",
    "pset simputmulticell ParamFile=xifu_3D_grid.fits\n",
    "pset simputmulticell ParamInputNames=\"T;FE_ABUND\"\n",
    "pset simputmulticell ParamNames=\"2;14\"\n",
    "pset simputmulticell XSPECFile=wabs_vapec_cosmo.xcm\n",
    "pset simputmulticell InputType=TABLE\n",
    "pset simputmulticell ParamsLogScale=\"no;no\"\n",
    "pset simputmulticell ParamsNumValues=\"100;100\"\n",
    "pset simputmulticell Elow=0.2\n",
    "pset simputmulticell Eup=12.0\n",
    "pset simputmulticell Nbins=47200\n",
    "pset simputmulticell Emin=0.2\n",
    "pset simputmulticell Emax=12.0\n",
    "pset simputmulticell Simput=xifu_3D.simput\n",
    "pset simputmulticell clobber=yes"
   ]
  }
 ],
 "metadata": {
  "kernelspec": {
   "display_name": "Python 3",
   "language": "python",
   "name": "python3"
  },
  "language_info": {
   "codemirror_mode": {
    "name": "ipython",
    "version": 3
   },
   "file_extension": ".py",
   "mimetype": "text/x-python",
   "name": "python",
   "nbconvert_exporter": "python",
   "pygments_lexer": "ipython3",
   "version": "3.8.10"
  }
 },
 "nbformat": 4,
 "nbformat_minor": 5
}
