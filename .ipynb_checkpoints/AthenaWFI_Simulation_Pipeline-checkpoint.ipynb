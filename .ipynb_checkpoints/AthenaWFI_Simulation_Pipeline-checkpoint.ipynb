{
 "cells": [
  {
   "cell_type": "markdown",
   "id": "6fa8cabc",
   "metadata": {},
   "source": [
    "# Athena WFI Simulated Images Production Pipeline"
   ]
  },
  {
   "cell_type": "markdown",
   "id": "869af7f7",
   "metadata": {},
   "source": [
    "last revision 16/11/21"
   ]
  },
  {
   "cell_type": "markdown",
   "id": "6ea56fdd",
   "metadata": {},
   "source": [
    "## 0) Introduction\n",
    "This Pipeline was developed as a Master Thesis Project by Riccardo Aurelio Gilardi, master undergraduee in Astrophysics at University of Milano-Bicocca (Italy), between November 2020 and November 2021 under the supervision of Dr.Iacopo Bartalucci of IASF-INAF Milano (Italy) and Prof.Monica Colpi of University of Milano-Bicocca.\n",
    "\n",
    "This Jupyter-Notebook contains an extended explanation of each and every command prompted to produce simulated images for the Athena WFI imager using SIXTE, with many technical and theoretical references and, where possible, alternative commands for every passage.\n",
    "\n",
    "I will begin showing in **section 1** *how to produce a simple image and spectra for a pointlike object with a power law emission spectra*. This can be considered an exercise to check if every command gives the expected outputs.\n",
    "\n",
    "In **section 2** I will make a more complex example, showing *how to produce images and spectra for an extended source, wether coming from another satellite or a simulation*, with a background and pointlike sources and with some instrument corrections.\n",
    "\n",
    "In the same directory to this file you will find some example analysis created starting from simulated objects, chandra images or simpler simputs. With these examples you will find scripts I used to obtain my results, which are customary and auxiliary, but not strictly required to complete the simulations.\n",
    "\n",
    "I will try to keep this file and the whole repository updated. Feel free to send any observation or question to the **github project's issue tracker**: https://github.com/RAGilardi/AthenaWFI_Sixte_Pipeline.\n",
    "\n",
    "If you use these codes for your work, please cite the author of this work referring to this project.\n",
    "\n",
    "#### Tecnical note:\n",
    "Even though with notebooks like this you could write and execute some bash commands (beginning a code cell with %%bash. This solution seems to work well with xspec scripts), at the moment of writing this I wasn't able to execute in a notebook many of the lines of code that required interactions, such as most of ciao and sixte command. Because of that, consider this as a source from which copy and paste lines into a terminal, more than an executable script.\n",
    "\n",
    "If this restriction to notebooks ever change, I will gladly make this file an executable pipeline, bypassing the use of terminals, if not needed."
   ]
  },
  {
   "cell_type": "markdown",
   "id": "b288dcf6",
   "metadata": {},
   "source": [
    "### 0.1) Requirements\n",
    "This version of the pipeline was developed on a machine with:\n",
    "- Linux Kernel version 5.4.0-90-generic\n",
    "- Ubuntu OS version 20.04.3 LTS (Focal Fossa)\n",
    "\n",
    "Software used in this version of the pipeline are:\n",
    "- CIAO 4.12 (https://cxc.cfa.harvard.edu/ciao/download/)\n",
    "- CALDB 4.9.3 (https://cxc.cfa.harvard.edu/ciao/download/caldb.html)\n",
    "- SIXTE 2.6.3, with Athena WFI instrument files downloaded (www.sternwarte.uni-erlangen.de/research/sixte/simulation.php, manual:https://www.sternwarte.uni-erlangen.de/research/sixte/data/simulator_manual_v1.3.14.pdf)\n",
    "- SIMPUT 2.4.10 (https://www.sternwarte.uni-erlangen.de/research/sixte/simulation.php)\n",
    "\n",
    "Additional Software I used to analyze my results, which are not strictly necessary are:\n",
    "- XSPEC 12.11.1 (used in the production and manipulation of spectral model and for spectral fits)\n",
    "- Python 3.8.10, with pip 21.1.2 as package manager and jupyter for notebooks. A list of packaged required will be shown at the beginning of tests and scripts\n",
    "- Sixte Athena-XIFU and XMM instrument files (for comparisons or complementary analysis to those of WFI)"
   ]
  },
  {
   "cell_type": "markdown",
   "id": "7f812e2f",
   "metadata": {},
   "source": [
    "# 1) Pointlike Source with PoweLaw emission\n",
    "This first simulation is a simple test with which verify the functioning and power of each software used in the pipeline.\n",
    "\n",
    "In the github Examples directory you can see a complete version of it."
   ]
  },
  {
   "cell_type": "markdown",
   "id": "032e244f",
   "metadata": {},
   "source": [
    "## 1.1) Init\n",
    "This first section is pretty straightforward.\n",
    "\n",
    "After starting ciao and sixte, the first commands are simple asiases with which indicate the position of xml files. These are not strictly necessary, but very convenient.\n",
    "\n",
    "Sixte will use these files to locate every instrument calibration file. They should be all located in the share/sixte/instruments/athena-wfi/ folder, downloaded when installing sixte."
   ]
  },
  {
   "cell_type": "raw",
   "id": "7839b629",
   "metadata": {},
   "source": [
    "ciao\n",
    "sixte\n",
    "\n",
    "xmldir=$SIXTE/share/sixte/instruments/athena-wfi/wfi_w_filter_15row\n",
    "xml0=${xmldir}/ld_wfi_ff_chip0.xml\n",
    "xml1=${xmldir}/ld_wfi_ff_chip1.xml\n",
    "xml2=${xmldir}/ld_wfi_ff_chip2.xml\n",
    "xml3=${xmldir}/ld_wfi_ff_chip3.xml\n",
    "\n",
    "#=== CRVAL1 CRVAL2\n",
    "RA=178.95265707698\n",
    "DEC=23.430564570053"
   ]
  },
  {
   "cell_type": "markdown",
   "id": "36c38181",
   "metadata": {},
   "source": [
    "## 1.2) Simput creation\n",
    "**Simput Files** (simulation input files) are fits file containing tables of informations on the sources required to sixte to start a simulation.\n",
    "\n",
    "On sixte manual there is an extended explanation on their structure and creation. It is also possible to read a list of every customisable parameter in their creation using the bash command \n",
    "\n",
    "plist \"simput generating function of your choice\"\n",
    "\n",
    "On the sixte websites there are some simput file example avaiable at https://www.sternwarte.uni-erlangen.de/research/sixte/simput.php\n",
    "\n",
    "While automazing the creation of simput files for pointlike sources is a relatively simple task, as shown below, in the *section 3* of this chapter will be shown how it is more complicated to build it for an extendend source.\n",
    "\n",
    "In the case "
   ]
  },
  {
   "cell_type": "raw",
   "id": "0959d83d",
   "metadata": {},
   "source": [
    "#==== SIMPUTFILE\n",
    "punlearn simputfile\n",
    "pset simputfile Elow=0.2\n",
    "pset simputfile Eup=12\n",
    "pset simputfile Nbins=1000\n",
    "pset simputfile XSPECFile=./input/model.xcm\n",
    "pset simputfile RA=${RA}\n",
    "pset simputfile Dec=${DEC}\n",
    "pset simputfile srcFlux=1.e-12\n",
    "pset simputfile Emin=0.5\n",
    "pset simputfile Emax=10\n",
    "pset simputfile clobber=yes\n",
    "simputfile"
   ]
  },
  {
   "cell_type": "markdown",
   "id": "5da48799",
   "metadata": {},
   "source": [
    "### catalogo di sorgenti (puntiformi) via sixte\n",
    "E' anche possibile tramite sixte una serie di simputfile per unirli in uno unico (si fa due a due), che funzionerà come un catalogo di oggetti."
   ]
  },
  {
   "cell_type": "code",
   "execution_count": null,
   "id": "5db04e00",
   "metadata": {},
   "outputs": [],
   "source": [
    "#creazione diversi simput\n",
    "simpar=\"XSPECFile=spectrum.xcm Emin=0.5 Emax=10.0 clobber=yes\"\n",
    "simputfile RA=40.21 Dec=12.82 srcFlux=8.3e-12 Simput=\"src_00.fits\" $simpar\n",
    "simputfile RA=40.31 Dec=12.83 srcFlux=2.3e-11 Simput=\"src_01.fits\" $simpar\n",
    "simputfile RA=40.12 Dec=12.73 srcFlux=6.3e-12 Simput=\"src_02.fits\" $simpar\n",
    "simputfile RA=40.27 Dec=12.81 srcFlux=4.1e-12 Simput=\"src_03.fits\" $simpar\n",
    "simputfile RA=40.29 Dec=12.75 srcFlux=3.2e-11 Simput=\"src_04.fits\" $simpar\n",
    "simputfile RA=40.33 Dec=12.81 srcFlux=1.3e-11 Simput=\"src_05.fits\" $simpar\n",
    "\n",
    "#merging\n",
    "opt=\"clobber=yes FetchExtensions=yes\"\n",
    "simputmerge $opt Infile1=src_00.fits Infile2=src_01.fits Outfile=m_src_01.fits\n",
    "simputmerge $opt Infile1=src_02.fits Infile2=m_src_01.fits Outfile=m_src_02.fits\n",
    "simputmerge $opt Infile1=src_03.fits Infile2=m_src_02.fits Outfile=m_src_03.fits\n",
    "simputmerge $opt Infile1=src_04.fits Infile2=m_src_03.fits Outfile=m_src_04.fits\n",
    "simputmerge $opt Infile1=src_05.fits Infile2=m_src_04.fits Outfile=merged_simput.fits\n",
    "\n",
    "#optionale: togliere i file iniziali e intermedi\n",
    "rm m_src*.fits src*.fits"
   ]
  },
  {
   "cell_type": "markdown",
   "id": "a0ab17f2",
   "metadata": {},
   "source": [
    "## 2.2) Simulation"
   ]
  },
  {
   "cell_type": "markdown",
   "id": "b2761ba7",
   "metadata": {},
   "source": [
    "## Imaging and Spectra production"
   ]
  },
  {
   "cell_type": "raw",
   "id": "e19c4fbd",
   "metadata": {},
   "source": [
    "#== IMAGING\n",
    "ftmerge \\\n",
    "./evt/pnt_source_chip0_evt.fits,./evt/pnt_source_chip1_evt.fits,./evt/pnt_source_chip2_evt.fits,./evt/pnt_source_chip3_evt.fits \\\n",
    "./evt/pnt_source_comb.fits clobber=yes\n",
    "\n",
    "punlearn imgev\n",
    "pset imgev EvtFile=./evt/pnt_source_comb.fits\n",
    "pset imgev Image=./images/image.fits\n",
    "pset imgev NAXIS1=1078\n",
    "pset imgev NAXIS2=1078\n",
    "pset imgev CRVAL1=${RA}\n",
    "pset imgev CRVAL2=${DEC}\n",
    "pset imgev CRPIX1=593.192308\n",
    "pset imgev CRPIX2=485.807692\n",
    "pset imgev CUNIT1=deg\n",
    "pset imgev CUNIT2=deg\n",
    "pset imgev CDELT1=6.207043e-04\n",
    "pset imgev CDELT2=6.207043e-04\n",
    "pset imgev CoordinateSystem=0\n",
    "pset imgev Projection=TAN\n",
    "pset imgev clobber=yes\n",
    "imgev\n",
    "\n",
    "#== SPECTRA\n",
    "punlearn makespec\n",
    "pset makespec EvtFile=./evt/pnt_source_comb.fits\n",
    "pset makespec Spectrum=./spectra/spectra.pha\n",
    "pset makespec RSPPath=${xmldir}\n",
    "pset makespec clobber=yes\n",
    "pset makespec EventFilter=\"{RA - ${RA}}**2 + {DEC - ${DEC}}**2 > 0 && {RA - ${RA}}**2 + {DEC - ${DEC}}**2 < 0.005**2\"\n",
    "makespec"
   ]
  },
  {
   "cell_type": "markdown",
   "id": "34efbd02",
   "metadata": {},
   "source": [
    "# 2) Galaxy Cluster Complete Simulation"
   ]
  },
  {
   "cell_type": "markdown",
   "id": "c2d2faea",
   "metadata": {},
   "source": [
    "### simputfile a partire da immagine di oggetto esteso\n",
    "E' possibile costruire un simput file per una sorgente estesa con **simputmultispec** dando in input:\n",
    "- immagine (= mappa di brillanza in conteggi), ricavata da un telescopio\n",
    "- mappe dei parametri, in cui sono unite le regioni con un valore del parametro sufficientemente simile\n",
    "\n",
    "Questo metodo è particolarmente efficace per le simulazioni in cui sono sufficienti le descrizioni 2D, poiché le mappe dei parametri non sono de-proiettabili\n",
    "\n",
    "**osservazioni:**\n",
    "- "
   ]
  },
  {
   "cell_type": "markdown",
   "id": "63d33f62",
   "metadata": {},
   "source": [
    "### simputfile a partire da simulazione di oggetto esteso\n",
    "Con **simputmulticell** possibile estrarre un file simput da dei dati 3D (che possono provenire da dati reali, simulazioni o un toy model).\n",
    "\n",
    "E' simile a simputmulti spec, ma qui il param file contiene la griglia 3D coi dati."
   ]
  },
  {
   "cell_type": "code",
   "execution_count": null,
   "id": "e0f92d3e",
   "metadata": {},
   "outputs": [],
   "source": [
    "punlearn simputmulticell\n",
    "pset simputmulticell ParamFile=xifu_3D_grid.fits\n",
    "pset simputmulticell ParamInputNames=\"T;FE_ABUND\"\n",
    "pset simputmulticell ParamNames=\"2;14\"\n",
    "pset simputmulticell XSPECFile=wabs_vapec_cosmo.xcm\n",
    "pset simputmulticell InputType=TABLE\n",
    "pset simputmulticell ParamsLogScale=\"no;no\"\n",
    "pset simputmulticell ParamsNumValues=\"100;100\"\n",
    "pset simputmulticell Elow=0.2\n",
    "pset simputmulticell Eup=12.0\n",
    "pset simputmulticell Nbins=47200\n",
    "pset simputmulticell Emin=0.2\n",
    "pset simputmulticell Emax=12.0\n",
    "pset simputmulticell Simput=xifu_3D.simput\n",
    "pset simputmulticell clobber=yes"
   ]
  },
  {
   "cell_type": "code",
   "execution_count": null,
   "id": "114b1130",
   "metadata": {},
   "outputs": [],
   "source": [
    "### simputfile a partire da simulazione di oggetto esteso\n",
    "Con **simputmulticell** possibile estrarre un file simput da dei dati 3D (che possono provenire da dati reali, simulazioni o un toy model).\n",
    "\n",
    "E' simile a simputmulti spec, ma qui il param file contiene la griglia 3D coi dati.\n",
    "\n",
    "punlearn simputmulticell\n",
    "pset simputmulticell ParamFile=xifu_3D_grid.fits\n",
    "pset simputmulticell ParamInputNames=\"T;FE_ABUND\"\n",
    "pset simputmulticell ParamNames=\"2;14\"\n",
    "pset simputmulticell XSPECFile=wabs_vapec_cosmo.xcm\n",
    "pset simputmulticell InputType=TABLE\n",
    "pset simputmulticell ParamsLogScale=\"no;no\"\n",
    "pset simputmulticell ParamsNumValues=\"100;100\"\n",
    "pset simputmulticell Elow=0.2\n",
    "pset simputmulticell Eup=12.0\n",
    "pset simputmulticell Nbins=47200\n",
    "pset simputmulticell Emin=0.2\n",
    "pset simputmulticell Emax=12.0\n",
    "pset simputmulticell Simput=xifu_3D.simput\n",
    "pset simputmulticell clobber=yes"
   ]
  },
  {
   "cell_type": "markdown",
   "id": "47cc74f1",
   "metadata": {},
   "source": [
    "# 2) Simulazioni\n",
    "E' possibile passare fino a 6 simput file ai simulatori, quando lanciati. Quindi possiamo crearne uno per l'ammasso, uno come catalogo delle puntiformi, uno per il bkg...\n",
    "\n",
    "Se creano più file di eventi (ad esempio usando più CCD o bande), poi si possono combinare con **ftmerge**.\n",
    "\n",
    "## 2.1) athenawfisim\n",
    "Simulatore di WFI, l'imager di Athena (Wide Field Imager).\n",
    "\n",
    "Per usarla bisogna prima indicare la directory dello strumento (con tutti i suoi ccd)."
   ]
  },
  {
   "cell_type": "code",
   "execution_count": null,
   "id": "1ac1aef6",
   "metadata": {},
   "outputs": [],
   "source": [
    "#directory dello strumento\n",
    "xmldir=$SIXTE/share/sixte/instruments/athena-wfi/wfi_w_filter_15row\n",
    "xml0=${xmldir}/ld_wfi_ff_chip0.xml\n",
    "xml1=${xmldir}/ld_wfi_ff_chip1.xml\n",
    "xml2=${xmldir}/ld_wfi_ff_chip2.xml\n",
    "xml3=${xmldir}/ld_wfi_ff_chip3.xml\n",
    "RA=161.267156643662\n",
    "DEC=-59.684372315062"
   ]
  },
  {
   "cell_type": "code",
   "execution_count": null,
   "id": "ded5705b",
   "metadata": {},
   "outputs": [],
   "source": [
    "#simulazione con le immagini dai diversi ccd\n",
    "punlearn athenawfisim\n",
    "pset athenawfisim XMLFile0=${xml0}\n",
    "pset athenawfisim XMLFile1=${xml1}\n",
    "pset athenawfisim XMLFile2=${xml2}\n",
    "pset athenawfisim XMLFile3=${xml3}\n",
    "pset athenawfisim RA=${RA}\n",
    "pset athenawfisim Dec=${DEC}\n",
    "pset athenawfisim Prefix=high_\n",
    "pset athenawfisim Exposure=1000\n",
    "pset athenawfisim clobber=yes\n",
    "pset athenawfisim Simput=etacar_high.fits\n",
    "pset athenawfisim Simput2=bkg_sky.simput\n",
    "pset athenawfisim Simput3=srcs_cat.simput\n",
    "# Simput2=... fino a 6\n",
    "\n",
    "#combinazione output (per imaging)\n",
    "ftmerge \\\n",
    "cdfs_chip0_evt.fits,cdfs_chip1_evt.fits,cdfs_chip2_evt.fits,cdfs_chip3_evt.fits \\\n",
    "cdfs_combined_evt.fits clobber=yes"
   ]
  },
  {
   "cell_type": "markdown",
   "id": "77087dac",
   "metadata": {},
   "source": [
    "## 2.2) xifupipeline (non approfondita nella tesi)\n",
    "Simulatore di X-IFU, lo spettrometro di Athena (X-ray Integral Field Unit).\n",
    "\n",
    "Per usarla bisogna prima indicare la directory dello strumento (con le bande scelte)."
   ]
  },
  {
   "cell_type": "code",
   "execution_count": null,
   "id": "32a98ef0",
   "metadata": {},
   "outputs": [],
   "source": [
    "#Specifica xmldir\n",
    "xmldir=/home/riccardo/Software/SIXTE/share/sixte/instruments/athena-xifu/"
   ]
  },
  {
   "cell_type": "code",
   "execution_count": null,
   "id": "2db3448a",
   "metadata": {},
   "outputs": [],
   "source": [
    "xifupipeline XMLFile=${xmldir}xifu_baseline.xml \\\n",
    "AdvXml=${xmldir}xifu_detector_lpa_75um_AR0.5_pixoffset_mux40_pitch275um.xml \\\n",
    "Exposure=100000 RA = 239.064583333 Dec=66.3470277776 \\\n",
    "EvtFile=evt.fits \\\n",
    "Simput=clusterA2146.simput\n",
    "# Simput2=... fino a 6"
   ]
  },
  {
   "cell_type": "code",
   "execution_count": null,
   "id": "cba44f17",
   "metadata": {},
   "outputs": [],
   "source": [
    "#Simulazione\n",
    "punlearn xifupipeline\n",
    "pset xifupipeline XMLFile=${xmldir}xifu_baseline.xml\n",
    "pset xifupipeline AdvXml=${xmldir}xifu_detector_lpa_75um_AR0.5_pixoffset_mux40_pitch275um.xml\n",
    "pset xifupipeline Exposure=1000\n",
    "pset xifupipeline RA=0.\n",
    "pset xifupipeline Dec=0.\n",
    "pset xifupipeline EvtFile=evt.fits\n",
    "pset xifupipeline Simput=xifu_3D.simput"
   ]
  },
  {
   "cell_type": "markdown",
   "id": "ca2c9805",
   "metadata": {},
   "source": [
    "## 2.3) Exposure Map e rimozione vignetting\n",
    "Quando si lavora con l'imager si deve tenere conto del **vignetting** dovuto alla separazione tra i ccd.\n",
    "\n",
    "Con un file **attitude** che descriva la traiettoria del **ditering** del telescopio sul cielo è possibile rimuoverlo. E' un argomento ad inserire in input ad athenawfisim."
   ]
  },
  {
   "cell_type": "code",
   "execution_count": null,
   "id": "703534b5",
   "metadata": {},
   "outputs": [],
   "source": [
    "#Remove Vignetting\n",
    "athenawfisim \\\n",
    "RA=53.13 Dec=-27.8 \\\n",
    "Attitude=CDFS_lissajous_80ksec.att \\\n",
    "Prefix=c_att_ \\\n",
    "XMLFile0=${xml0} XMLFile1=${xml1} XMLFile2=${xml2} XMLFile3=${xml3} \\\n",
    "Simput=CDFS_cat_lehmer.fits Simput2=CDFS_cat_galaxies.fits \\\n",
    "Exposure=5000 \\\n",
    "clobber=yes\n",
    "\n",
    "ftmerge \\\n",
    "c_att_chip0_evt.fits,c_att_chip1_evt.fits,c_att_chip2_evt.fits,c_att_chip3_evt.fits \\\n",
    "c_att_combined_evt.fits clobber=yes"
   ]
  },
  {
   "cell_type": "markdown",
   "id": "ec9e7e94",
   "metadata": {},
   "source": [
    "Con lo stesso file per l'attitude e la **mappa del vignetting** (nelle cartelle dello strumento) è possibile costruire anche una **mappa di esposizione** per l'osservazione, con cui volendo si possono **normalizzare le osservazioni**."
   ]
  },
  {
   "cell_type": "code",
   "execution_count": null,
   "id": "b789c0f1",
   "metadata": {},
   "outputs": [],
   "source": [
    "#Exposure map\n",
    "exposure_map \\\n",
    "Vignetting=${xmldir}/athena_vig_15row_20171016.fits \\\n",
    "Attitude=CDFS_lissajous_80ksec.att \\\n",
    "Exposuremap=expo_map.fits \\\n",
    "XMLFile=\"${xml0};${xml1};${xml2};${xml3}\" \\\n",
    "fov_diameter=70 \\\n",
    "CoordinateSystem=0 projection_type=TAN \\\n",
    "NAXIS1=1078 NAXIS2=1078 CUNIT1=deg CUNIT2=deg \\\n",
    "CRVAL1=53.13 CRVAL2=-27.8 CRPIX1=593.192308 CRPIX2=485.807692 \\\n",
    "CDELT1=-6.207043e-04 CDELT2=6.207043e-04 \\\n",
    "TSTART=0 timespan=5000.000000 dt=100. \\\n",
    "chatter=3 clobber=true"
   ]
  },
  {
   "cell_type": "markdown",
   "id": "6f6d781c",
   "metadata": {},
   "source": [
    "# 3) Imaging\n",
    "Una volta prodotti/mergiati degli **event file**, apribili come tabelle con prism, è possibile produrre immagini con **imgev**.\n",
    "\n",
    "In particolare:\n",
    "- **NAXIS** sono i pixel dell'immagine per asse\n",
    "- **CRVAL** sono le coordinate\n",
    "- **CRPIX** sono i pixel centrali\n",
    "- **CUNIT** è l'unità di misura di CRVAL\n",
    "- **CDELT** è la grandezza in gradi di ogni pixel\n",
    "\n",
    "**Osservazioni**:\n",
    "- Un valore di CDELT=-6.207043e-04 è piuttosto vicino alla sorgente, alta risoluzione, ma taglia pezzetti di ccd. Un valore CDELT=-0.0011888874248538006 invece prende tutti i sensori, ma da più lontano e con risoluzione minore"
   ]
  },
  {
   "cell_type": "code",
   "execution_count": null,
   "id": "a5346f9a",
   "metadata": {},
   "outputs": [],
   "source": [
    "#imging\n",
    "punlearn imgev\n",
    "pset imgev EvtFile=high_chip0_evt.fits\n",
    "pset imgev Image=image.fits\n",
    "pset imgev NAXIS1=1078\n",
    "pset imgev NAXIS2=1078\n",
    "pset imgev CRVAL1=${RA}\n",
    "pset imgev CRVAL2=${DEC}\n",
    "pset imgev CRPIX1=593.192308\n",
    "pset imgev CRPIX2=485.807692\n",
    "pset imgev CUNIT1=deg\n",
    "pset imgev CUNIT2=deg\n",
    "pset imgev CDELT1=-6.207043e-04\n",
    "pset imgev CDELT2=-6.207043e-04\n",
    "pset imgev CoordinateSystem=0\n",
    "pset imgev Projection=TAN"
   ]
  },
  {
   "cell_type": "code",
   "execution_count": null,
   "id": "01362f38",
   "metadata": {},
   "outputs": [],
   "source": [
    "#Produrre immagine\n",
    "imgev EvtFile=evt.fits Image=image.fits\\\n",
    "      NAXIS1=80 NAXIS2=80 \\\n",
    "      CRVAL1=239.064583333 CRVAL2=66.3470277776 \\\n",
    "      CRPIX1=40.5 CRPIX2=40.5 \\\n",
    "      CDELT1=-0.0011888874248538006 \\\n",
    "      CDELT2=0.0011888874248538006 \\\n",
    "      CoordinateSystem=0 \\\n",
    "      Projection=TAN"
   ]
  },
  {
   "cell_type": "markdown",
   "id": "057d8efc",
   "metadata": {},
   "source": [
    "# 4) Spettro\n",
    "<font color='red'>Non riesco a far funzionare makespec, per ora</font>"
   ]
  },
  {
   "cell_type": "code",
   "execution_count": null,
   "id": "b4d946f3",
   "metadata": {},
   "outputs": [],
   "source": [
    "# 2) Simulazioni\n",
    "E' possibile passare fino a 6 simput file ai simulatori, quando lanciati. Quindi possiamo crearne uno per l'ammasso, uno come catalogo delle puntiformi, uno per il bkg...\n",
    "\n",
    "Se creano più file di eventi (ad esempio usando più CCD o bande), poi si possono combinare con **ftmerge**.\n",
    "\n",
    "## 2.1) athenawfisim\n",
    "Simulatore di WFI, l'imager di Athena (Wide Field Imager).\n",
    "\n",
    "Per usarla bisogna prima indicare la directory dello strumento (con tutti i suoi ccd).\n",
    "\n",
    "#directory dello strumento\n",
    "xmldir=$SIXTE/share/sixte/instruments/athena-wfi/wfi_w_filter_15row\n",
    "xml0=${xmldir}/ld_wfi_ff_chip0.xml\n",
    "xml1=${xmldir}/ld_wfi_ff_chip1.xml\n",
    "xml2=${xmldir}/ld_wfi_ff_chip2.xml\n",
    "xml3=${xmldir}/ld_wfi_ff_chip3.xml\n",
    "RA=161.267156643662\n",
    "DEC=-59.684372315062\n",
    "\n",
    "#simulazione con le immagini dai diversi ccd\n",
    "punlearn athenawfisim\n",
    "pset athenawfisim XMLFile0=${xml0}\n",
    "pset athenawfisim XMLFile1=${xml1}\n",
    "pset athenawfisim XMLFile2=${xml2}\n",
    "pset athenawfisim XMLFile3=${xml3}\n",
    "pset athenawfisim RA=${RA}\n",
    "pset athenawfisim Dec=${DEC}\n",
    "pset athenawfisim Prefix=high_\n",
    "pset athenawfisim Exposure=1000\n",
    "pset athenawfisim clobber=yes\n",
    "pset athenawfisim Simput=etacar_high.fits\n",
    "pset athenawfisim Simput2=bkg_sky.simput\n",
    "pset athenawfisim Simput3=srcs_cat.simput\n",
    "# Simput2=... fino a 6\n",
    "\n",
    "#combinazione output (per imaging)\n",
    "ftmerge \\\n",
    "cdfs_chip0_evt.fits,cdfs_chip1_evt.fits,cdfs_chip2_evt.fits,cdfs_chip3_evt.fits \\\n",
    "cdfs_combined_evt.fits clobber=yes\n",
    "\n",
    "## 2.2) xifupipeline (non approfondita nella tesi)\n",
    "Simulatore di X-IFU, lo spettrometro di Athena (X-ray Integral Field Unit).\n",
    "\n",
    "Per usarla bisogna prima indicare la directory dello strumento (con le bande scelte).\n",
    "\n",
    "#Specifica xmldir\n",
    "xmldir=/home/riccardo/Software/SIXTE/share/sixte/instruments/athena-xifu/\n",
    "\n",
    "xifupipeline XMLFile=${xmldir}xifu_baseline.xml \\\n",
    "AdvXml=${xmldir}xifu_detector_lpa_75um_AR0.5_pixoffset_mux40_pitch275um.xml \\\n",
    "Exposure=100000 RA = 239.064583333 Dec=66.3470277776 \\\n",
    "EvtFile=evt.fits \\\n",
    "Simput=clusterA2146.simput\n",
    "# Simput2=... fino a 6\n",
    "\n",
    "#Simulazione\n",
    "punlearn xifupipeline\n",
    "pset xifupipeline XMLFile=${xmldir}xifu_baseline.xml\n",
    "pset xifupipeline AdvXml=${xmldir}xifu_detector_lpa_75um_AR0.5_pixoffset_mux40_pitch275um.xml\n",
    "pset xifupipeline Exposure=1000\n",
    "pset xifupipeline RA=0.\n",
    "pset xifupipeline Dec=0.\n",
    "pset xifupipeline EvtFile=evt.fits\n",
    "pset xifupipeline Simput=xifu_3D.simput\n",
    "\n",
    "## 2.3) Exposure Map e rimozione vignetting\n",
    "Quando si lavora con l'imager si deve tenere conto del **vignetting** dovuto alla separazione tra i ccd.\n",
    "\n",
    "Con un file **attitude** che descriva la traiettoria del **ditering** del telescopio sul cielo è possibile rimuoverlo. E' un argomento ad inserire in input ad athenawfisim.\n",
    "\n",
    "#Remove Vignetting\n",
    "athenawfisim \\\n",
    "RA=53.13 Dec=-27.8 \\\n",
    "Attitude=CDFS_lissajous_80ksec.att \\\n",
    "Prefix=c_att_ \\\n",
    "XMLFile0=${xml0} XMLFile1=${xml1} XMLFile2=${xml2} XMLFile3=${xml3} \\\n",
    "Simput=CDFS_cat_lehmer.fits Simput2=CDFS_cat_galaxies.fits \\\n",
    "Exposure=5000 \\\n",
    "clobber=yes\n",
    "\n",
    "ftmerge \\\n",
    "c_att_chip0_evt.fits,c_att_chip1_evt.fits,c_att_chip2_evt.fits,c_att_chip3_evt.fits \\\n",
    "c_att_combined_evt.fits clobber=yes\n",
    "\n",
    "Con lo stesso file per l'attitude e la **mappa del vignetting** (nelle cartelle dello strumento) è possibile costruire anche una **mappa di esposizione** per l'osservazione, con cui volendo si possono **normalizzare le osservazioni**.\n",
    "\n",
    "#Exposure map\n",
    "exposure_map \\\n",
    "Vignetting=${xmldir}/athena_vig_15row_20171016.fits \\\n",
    "Attitude=CDFS_lissajous_80ksec.att \\\n",
    "Exposuremap=expo_map.fits \\\n",
    "XMLFile=\"${xml0};${xml1};${xml2};${xml3}\" \\\n",
    "fov_diameter=70 \\\n",
    "CoordinateSystem=0 projection_type=TAN \\\n",
    "NAXIS1=1078 NAXIS2=1078 CUNIT1=deg CUNIT2=deg \\\n",
    "CRVAL1=53.13 CRVAL2=-27.8 CRPIX1=593.192308 CRPIX2=485.807692 \\\n",
    "CDELT1=-6.207043e-04 CDELT2=6.207043e-04 \\\n",
    "TSTART=0 timespan=5000.000000 dt=100. \\\n",
    "chatter=3 clobber=true\n",
    "\n",
    "# 3) Imaging\n",
    "Una volta prodotti/mergiati degli **event file**, apribili come tabelle con prism, è possibile produrre immagini con **imgev**.\n",
    "\n",
    "In particolare:\n",
    "- **NAXIS** sono i pixel dell'immagine per asse\n",
    "- **CRVAL** sono le coordinate\n",
    "- **CRPIX** sono i pixel centrali\n",
    "- **CUNIT** è l'unità di misura di CRVAL\n",
    "- **CDELT** è la grandezza in gradi di ogni pixel\n",
    "\n",
    "**Osservazioni**:\n",
    "- Un valore di CDELT=-6.207043e-04 è piuttosto vicino alla sorgente, alta risoluzione, ma taglia pezzetti di ccd. Un valore CDELT=-0.0011888874248538006 invece prende tutti i sensori, ma da più lontano e con risoluzione minore\n",
    "\n",
    "#imging\n",
    "punlearn imgev\n",
    "pset imgev EvtFile=high_chip0_evt.fits\n",
    "pset imgev Image=image.fits\n",
    "pset imgev NAXIS1=1078\n",
    "pset imgev NAXIS2=1078\n",
    "pset imgev CRVAL1=${RA}\n",
    "pset imgev CRVAL2=${DEC}\n",
    "pset imgev CRPIX1=593.192308\n",
    "pset imgev CRPIX2=485.807692\n",
    "pset imgev CUNIT1=deg\n",
    "pset imgev CUNIT2=deg\n",
    "pset imgev CDELT1=-6.207043e-04\n",
    "pset imgev CDELT2=-6.207043e-04\n",
    "pset imgev CoordinateSystem=0\n",
    "pset imgev Projection=TAN\n",
    "\n",
    "#Produrre immagine\n",
    "imgev EvtFile=evt.fits Image=image.fits\\\n",
    "      NAXIS1=80 NAXIS2=80 \\\n",
    "      CRVAL1=239.064583333 CRVAL2=66.3470277776 \\\n",
    "      CRPIX1=40.5 CRPIX2=40.5 \\\n",
    "      CDELT1=-0.0011888874248538006 \\\n",
    "      CDELT2=0.0011888874248538006 \\\n",
    "      CoordinateSystem=0 \\\n",
    "      Projection=TAN\n",
    "\n",
    "# 4) Spettro\n",
    "<font color='red'>Non riesco a far funzionare makespec, per ora</font>"
   ]
  }
 ],
 "metadata": {
  "kernelspec": {
   "display_name": "Python 3",
   "language": "python",
   "name": "python3"
  },
  "language_info": {
   "codemirror_mode": {
    "name": "ipython",
    "version": 3
   },
   "file_extension": ".py",
   "mimetype": "text/x-python",
   "name": "python",
   "nbconvert_exporter": "python",
   "pygments_lexer": "ipython3",
   "version": "3.8.10"
  }
 },
 "nbformat": 4,
 "nbformat_minor": 5
}
