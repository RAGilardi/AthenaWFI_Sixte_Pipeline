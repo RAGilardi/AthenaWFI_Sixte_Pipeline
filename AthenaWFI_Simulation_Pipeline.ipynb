{
 "cells": [
  {
   "cell_type": "markdown",
   "id": "6fa8cabc",
   "metadata": {},
   "source": [
    "# Athena WFI Simulated Images Production Pipeline"
   ]
  },
  {
   "cell_type": "markdown",
   "id": "869af7f7",
   "metadata": {},
   "source": [
    "last revision 16/11/21"
   ]
  },
  {
   "cell_type": "markdown",
   "id": "6ea56fdd",
   "metadata": {},
   "source": [
    "## 0) Introduction\n",
    "This Pipeline was developed as a Master Thesis Project by Riccardo Aurelio Gilardi, master undergraduee in Astrophysics at University of Milano-Bicocca (Italy), between November 2020 and November 2021 under the supervision of Dr.Iacopo Bartalucci of IASF-INAF Milano (Italy) and Prof.Monica Colpi of University of Milano-Bicocca.\n",
    "\n",
    "This Jupyter-Notebook contains an extended explanation of each and every command prompted to produce simulated images for the Athena WFI imager using SIXTE, with many technical and theoretical references and, where possible, alternative commands for every passage.\n",
    "\n",
    "I will begin showing in **section 1** *how to produce a simple image and spectra for a pointlike object with a power law emission spectra*. This can be considered an exercise to check if every command gives the expected outputs.\n",
    "\n",
    "In **section 2** I will make a more complex example, showing *how to produce images and spectra for an extended source, wether coming from another satellite or a simulation*, with a background and pointlike sources and with some instrument corrections.\n",
    "\n",
    "In the same directory to this file you will find some example analysis created starting from simulated objects, chandra images or simpler simputs. With these examples you will find scripts I used to obtain my results, which are customary and auxiliary, but not strictly required to complete the simulations.\n",
    "\n",
    "I will try to keep this file and the whole repository updated. Feel free to send any observation or question to the **github project's issue tracker**: https://github.com/RAGilardi/AthenaWFI_Sixte_Pipeline.\n",
    "\n",
    "#### Tecnical note:\n",
    "Even though with notebooks like this you could write and execute some bash commands (beginning a code cell with %%bash. This solution seems to work well with xspec scripts), at the moment of writing this I wasn't able to execute in a notebook many of the lines of code that required interactions, such as most of ciao and sixte command. Because of that, consider this as a source from which copy and paste lines into a terminal, more than an executable script.\n",
    "\n",
    "If this restriction to notebooks ever change, I will gladly make this file an executable pipeline, bypassing the use of terminals, if not needed."
   ]
  },
  {
   "cell_type": "markdown",
   "id": "b288dcf6",
   "metadata": {},
   "source": [
    "### 0.1) Requirements\n",
    "This version of the pipeline was developed on a machine with:\n",
    "- Linux Kernel version 5.4.0-90-generic\n",
    "- Ubuntu OS version 20.04.3 LTS (Focal Fossa)\n",
    "\n",
    "Software used in this version of the pipeline are:\n",
    "- CIAO 4.12 (https://cxc.cfa.harvard.edu/ciao/download/)\n",
    "- CALDB 4.9.3 (https://cxc.cfa.harvard.edu/ciao/download/caldb.html)\n",
    "- SIXTE 2.6.3, with Athena WFI instrument files downloaded (www.sternwarte.uni-erlangen.de/research/sixte/simulation.php, manual:https://www.sternwarte.uni-erlangen.de/research/sixte/data/simulator_manual_v1.3.14.pdf)\n",
    "- SIMPUT 2.4.10 (https://www.sternwarte.uni-erlangen.de/research/sixte/simulation.php)\n",
    "\n",
    "Additional Software I used to analyze my results, which are not strictly necessary are:\n",
    "- XSPEC 12.11.1 (used in the production and manipulation of spectral model and for spectral fits)\n",
    "- Python 3.8.10, with pip 21.1.2 as package manager and jupyter for notebooks. A list of packaged required will be shown at the beginning of tests and scripts\n",
    "- Sixte Athena-XIFU and XMM instrument files (for comparisons or complementary analysis to those of WFI)"
   ]
  },
  {
   "cell_type": "markdown",
   "id": "9d07358b",
   "metadata": {},
   "source": [
    "# 1) Pointlike Source with PoweLaw emission\n",
    "This first simulation is a simple test with which verify the functioning and power of each software used in the pipeline.\n",
    "\n",
    "In the github Examples directory you can see a complete version of it."
   ]
  },
  {
   "cell_type": "markdown",
   "id": "8f8ef681",
   "metadata": {},
   "source": [
    "## 1.1) Init\n",
    "This first section is pretty straightforward.\n",
    "\n",
    "After starting ciao and sixte, the first commands are simple asiases with which indicate the position of xml files. These are not strictly necessary, but very convenient.\n",
    "\n",
    "Sixte will use these files to locate every instrument calibration file. They should be all located in the share/sixte/instruments/athena-wfi/ folder, downloaded when installing sixte."
   ]
  },
  {
   "cell_type": "raw",
   "id": "7f5a91c6",
   "metadata": {},
   "source": [
    "ciao\n",
    "sixte\n",
    "\n",
    "xmldir=$SIXTE/share/sixte/instruments/athena-wfi/wfi_w_filter_15row\n",
    "xml0=${xmldir}/ld_wfi_ff_chip0.xml\n",
    "xml1=${xmldir}/ld_wfi_ff_chip1.xml\n",
    "xml2=${xmldir}/ld_wfi_ff_chip2.xml\n",
    "xml3=${xmldir}/ld_wfi_ff_chip3.xml"
   ]
  },
  {
   "cell_type": "markdown",
   "id": "1fc3fb0f",
   "metadata": {},
   "source": [
    "## 1.2) Simput creation and Simulation"
   ]
  },
  {
   "cell_type": "raw",
   "id": "3d186c91",
   "metadata": {},
   "source": [
    "#=== CRVAL1 CRVAL2\n",
    "RA=178.95265707698\n",
    "DEC=23.430564570053\n",
    "\n",
    "#==== SIMPUTFILE\n",
    "punlearn simputfile\n",
    "pset simputfile Elow=0.2\n",
    "pset simputfile Eup=12\n",
    "pset simputfile Nbins=1000\n",
    "pset simputfile XSPECFile=./input/model.xcm\n",
    "pset simputfile RA=${RA}\n",
    "pset simputfile Dec=${DEC}\n",
    "pset simputfile srcFlux=1.e-12\n",
    "pset simputfile Emin=0.5\n",
    "pset simputfile Emax=10\n",
    "pset simputfile clobber=yes\n",
    "simputfile\n",
    "\n",
    "#=== SIMULATION\n",
    "punlearn athenawfisim\n",
    "pset athenawfisim XMLFile0=${xml0}\n",
    "pset athenawfisim XMLFile1=${xml1}\n",
    "pset athenawfisim XMLFile2=${xml2}\n",
    "pset athenawfisim XMLFile3=${xml3}\n",
    "pset athenawfisim RA=${RA}\n",
    "pset athenawfisim Dec=${DEC}\n",
    "pset athenawfisim Prefix=./evt/pnt_source_\n",
    "pset athenawfisim Exposure=10000\n",
    "pset athenawfisim clobber=yes\n",
    "pset athenawfisim Attitude=./input/attitude_80ksec.att\n",
    "pset athenawfisim Simput=./simput/simput.fits\n",
    "athenawfisim"
   ]
  },
  {
   "cell_type": "markdown",
   "id": "feb534f9",
   "metadata": {},
   "source": [
    "## Imaging and Spectra production"
   ]
  },
  {
   "cell_type": "raw",
   "id": "88cce918",
   "metadata": {},
   "source": [
    "#== IMAGING\n",
    "ftmerge \\\n",
    "./evt/pnt_source_chip0_evt.fits,./evt/pnt_source_chip1_evt.fits,./evt/pnt_source_chip2_evt.fits,./evt/pnt_source_chip3_evt.fits \\\n",
    "./evt/pnt_source_comb.fits clobber=yes\n",
    "\n",
    "punlearn imgev\n",
    "pset imgev EvtFile=./evt/pnt_source_comb.fits\n",
    "pset imgev Image=./images/image.fits\n",
    "pset imgev NAXIS1=1078\n",
    "pset imgev NAXIS2=1078\n",
    "pset imgev CRVAL1=${RA}\n",
    "pset imgev CRVAL2=${DEC}\n",
    "pset imgev CRPIX1=593.192308\n",
    "pset imgev CRPIX2=485.807692\n",
    "pset imgev CUNIT1=deg\n",
    "pset imgev CUNIT2=deg\n",
    "pset imgev CDELT1=6.207043e-04\n",
    "pset imgev CDELT2=6.207043e-04\n",
    "pset imgev CoordinateSystem=0\n",
    "pset imgev Projection=TAN\n",
    "pset imgev clobber=yes\n",
    "imgev\n",
    "\n",
    "#== SPECTRA\n",
    "punlearn makespec\n",
    "pset makespec EvtFile=./evt/pnt_source_comb.fits\n",
    "pset makespec Spectrum=./spectra/spectra.pha\n",
    "pset makespec RSPPath=${xmldir}\n",
    "pset makespec clobber=yes\n",
    "pset makespec EventFilter=\"{RA - ${RA}}**2 + {DEC - ${DEC}}**2 > 0 && {RA - ${RA}}**2 + {DEC - ${DEC}}**2 < 0.005**2\"\n",
    "makespec"
   ]
  },
  {
   "cell_type": "markdown",
   "id": "60ae3420",
   "metadata": {},
   "source": [
    "# 2) Galaxy Cluster Complete Simulation"
   ]
  },
  {
   "cell_type": "code",
   "execution_count": null,
   "id": "1582a00b",
   "metadata": {},
   "outputs": [],
   "source": []
  }
 ],
 "metadata": {
  "kernelspec": {
   "display_name": "Python 3",
   "language": "python",
   "name": "python3"
  },
  "language_info": {
   "codemirror_mode": {
    "name": "ipython",
    "version": 3
   },
   "file_extension": ".py",
   "mimetype": "text/x-python",
   "name": "python",
   "nbconvert_exporter": "python",
   "pygments_lexer": "ipython3",
   "version": "3.8.10"
  }
 },
 "nbformat": 4,
 "nbformat_minor": 5
}
