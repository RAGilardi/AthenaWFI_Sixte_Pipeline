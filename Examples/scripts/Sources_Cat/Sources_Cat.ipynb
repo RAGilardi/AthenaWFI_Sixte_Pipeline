{
 "cells": [
  {
   "cell_type": "code",
   "execution_count": 1,
   "metadata": {},
   "outputs": [],
   "source": [
    "inputfile = 'fake_points.fits'\n",
    "outputfile = 'srcs_cat.simput'\n",
    "nsrcs = 200\n",
    "\n",
    "RA=109.35344\n",
    "DEC=37.810049\n",
    "\n",
    "range_deg = 30\n",
    "\n",
    "initpar_data = (1, ' ', RA, DEC, 0., 1., 0.5, 10., 2.e-12,\\\n",
    "           '[SPECTRUM,1]', 'NULL', 'NULL')"
   ]
  },
  {
   "cell_type": "code",
   "execution_count": 2,
   "metadata": {
    "scrolled": true
   },
   "outputs": [
    {
     "name": "stdout",
     "output_type": "stream",
     "text": [
      "109.85344\n",
      "108.85344\n",
      "38.310049\n",
      "37.310049\n"
     ]
    }
   ],
   "source": [
    "#Area distribuzione sorgenti\n",
    "print(RA+range_deg/60)\n",
    "print(RA-range_deg/60)\n",
    "print(DEC+range_deg/60)\n",
    "print(DEC-range_deg/60)"
   ]
  },
  {
   "cell_type": "markdown",
   "metadata": {},
   "source": [
    "# Codice"
   ]
  },
  {
   "cell_type": "code",
   "execution_count": 3,
   "metadata": {},
   "outputs": [],
   "source": [
    "import numpy as np\n",
    "import matplotlib.pyplot as plt\n",
    "\n",
    "from pylab import rcParams\n",
    "rcParams['figure.figsize'] = 9, 9\n",
    "\n",
    "from astropy.io import fits\n",
    "from astropy import table\n",
    "\n",
    "import random"
   ]
  },
  {
   "cell_type": "code",
   "execution_count": 4,
   "metadata": {
    "scrolled": true
   },
   "outputs": [
    {
     "name": "stdout",
     "output_type": "stream",
     "text": [
      "561\n",
      "534\n"
     ]
    }
   ],
   "source": [
    "file = fits.open(inputfile)\n",
    "\n",
    "range_arcmin = range_deg/60.\n",
    "a = np.random.uniform(-2*range_arcmin,2*range_arcmin,nsrcs)+RA\n",
    "b = np.random.uniform(-range_arcmin,range_arcmin,nsrcs)+DEC\n",
    "\n",
    "limit = len(file[1].data)-nsrcs-1\n",
    "print(limit)\n",
    "sp = np.random.randint(0, limit)\n",
    "print(sp)\n",
    "\n",
    "for i in range(nsrcs):\n",
    "    file[1].data[i+sp][2] = a[i]\n",
    "    file[1].data[i+sp][3] = b[i]\n",
    "        \n",
    "for i in range(0,sp):\n",
    "    file[1].data[i][8] = 0\n",
    "for i in range(sp+nsrcs, len(file[1].data)):\n",
    "    file[1].data[i][8] = 0"
   ]
  },
  {
   "cell_type": "code",
   "execution_count": 5,
   "metadata": {},
   "outputs": [
    {
     "data": {
      "text/plain": [
       "[<matplotlib.lines.Line2D at 0x7f41535bc3a0>]"
      ]
     },
     "execution_count": 5,
     "metadata": {},
     "output_type": "execute_result"
    },
    {
     "data": {
      "image/png": "[encoded data removed]",
      "text/plain": [
       "<Figure size 648x648 with 1 Axes>"
      ]
     },
     "metadata": {
      "needs_background": "light"
     },
     "output_type": "display_data"
    }
   ],
   "source": [
    "plt.plot(a,b,'.')"
   ]
  },
  {
   "cell_type": "code",
   "execution_count": 6,
   "metadata": {},
   "outputs": [],
   "source": [
    "file.writeto(outputfile, overwrite=True, output_verify=\"fix\")\n",
    "file.close()"
   ]
  },
  {
   "cell_type": "markdown",
   "metadata": {},
   "source": [
    "# Restore flux distribution"
   ]
  },
  {
   "cell_type": "code",
   "execution_count": 7,
   "metadata": {},
   "outputs": [],
   "source": [
    "#In case you need to re-initialize the flux distribution in fake_points, the it from this file\n",
    "lehmer = 'CDFS_cat_lehmer.fits'"
   ]
  },
  {
   "cell_type": "code",
   "execution_count": 8,
   "metadata": {},
   "outputs": [],
   "source": [
    "file = fits.open(inputfile)\n",
    "chandra_cat = fits.open(lehmer)\n",
    "\n",
    "for i in range(len(file[1].data)):\n",
    "    file[1].data[i][8] = chandra_cat[1].data[i][6]\n",
    "    \n",
    "file.writeto(inputfile, overwrite=True, output_verify=\"fix\")"
   ]
  },
  {
   "cell_type": "code",
   "execution_count": null,
   "metadata": {},
   "outputs": [],
   "source": []
  }
 ],
 "metadata": {
  "kernelspec": {
   "display_name": "Python 3",
   "language": "python",
   "name": "python3"
  },
  "language_info": {
   "codemirror_mode": {
    "name": "ipython",
    "version": 3
   },
   "file_extension": ".py",
   "mimetype": "text/x-python",
   "name": "python",
   "nbconvert_exporter": "python",
   "pygments_lexer": "ipython3",
   "version": "3.8.10"
  }
 },
 "nbformat": 4,
 "nbformat_minor": 4
}
